{
 "cells": [
  {
   "cell_type": "code",
   "execution_count": 1,
   "metadata": {},
   "outputs": [],
   "source": [
    "import numpy as np\n",
    "import tensorflow as tf\n",
    "from skimage import io"
   ]
  },
  {
   "cell_type": "code",
   "execution_count": 2,
   "metadata": {},
   "outputs": [
    {
     "name": "stdout",
     "output_type": "stream",
     "text": [
      "INFO:tensorflow:Restoring parameters from net/my_net.ckpt\n",
      "您的手写字符是： [0]\n"
     ]
    }
   ],
   "source": [
    "W = tf.Variable(tf.zeros([784,10]))\n",
    "b = tf.Variable(tf.zeros([1,10]))\n",
    "\n",
    "#传入自己的图片\n",
    "img = io.imread('3-2.jpg',as_grey=True)\n",
    "mypicture = 1-img.flatten()\n",
    "mypicture1 = mypicture.reshape(1,784).astype(np.float32)\n",
    "#建立图片占位符号\n",
    "myx = tf.placeholder(tf.float32,[1,784])\n",
    "myprediction = tf.nn.softmax(tf.matmul(myx,W)+b)\n",
    "mypredictionhot = tf.argmax(myprediction,1)\n",
    "\n",
    "saver = tf.train.Saver()\n",
    "with tf.Session() as sess:\n",
    "    sess.run(tf.global_variables_initializer())\n",
    "    saver.restore(sess,'net/my_net.ckpt')    \n",
    "    bbb = sess.run(mypredictionhot,feed_dict={myx:mypicture1})\n",
    "    print(\"您的手写字符是：\",bbb)\n"
   ]
  },
  {
   "cell_type": "code",
   "execution_count": null,
   "metadata": {},
   "outputs": [],
   "source": []
  }
 ],
 "metadata": {
  "kernelspec": {
   "display_name": "Python 3",
   "language": "python",
   "name": "python3"
  },
  "language_info": {
   "codemirror_mode": {
    "name": "ipython",
    "version": 3
   },
   "file_extension": ".py",
   "mimetype": "text/x-python",
   "name": "python",
   "nbconvert_exporter": "python",
   "pygments_lexer": "ipython3",
   "version": "3.6.2"
  }
 },
 "nbformat": 4,
 "nbformat_minor": 2
}
