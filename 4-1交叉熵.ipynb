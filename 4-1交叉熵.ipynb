{
 "cells": [
  {
   "cell_type": "code",
   "execution_count": 2,
   "metadata": {},
   "outputs": [],
   "source": [
    "import numpy as np\n",
    "import tensorflow as tf\n",
    "from skimage import io\n",
    "from tensorflow.examples.tutorials.mnist import input_data"
   ]
  },
  {
   "cell_type": "code",
   "execution_count": 10,
   "metadata": {},
   "outputs": [
    {
     "name": "stdout",
     "output_type": "stream",
     "text": [
      "Extracting MNIST_data\\train-images-idx3-ubyte.gz\n",
      "Extracting MNIST_data\\train-labels-idx1-ubyte.gz\n",
      "Extracting MNIST_data\\t10k-images-idx3-ubyte.gz\n",
      "Extracting MNIST_data\\t10k-labels-idx1-ubyte.gz\n",
      "第0次电脑训练，识别准确率：0.8127\n",
      "第1次电脑训练，识别准确率：0.825\n",
      "第2次电脑训练，识别准确率：0.8357\n",
      "第3次电脑训练，识别准确率：0.8868\n",
      "第4次电脑训练，识别准确率：0.8971\n",
      "第5次电脑训练，识别准确率：0.9005\n",
      "第6次电脑训练，识别准确率：0.9036\n",
      "第7次电脑训练，识别准确率：0.9055\n",
      "第8次电脑训练，识别准确率：0.9069\n",
      "第9次电脑训练，识别准确率：0.9087\n",
      "第10次电脑训练，识别准确率：0.9092\n",
      "第11次电脑训练，识别准确率：0.9098\n",
      "第12次电脑训练，识别准确率：0.9102\n",
      "第13次电脑训练，识别准确率：0.9117\n",
      "第14次电脑训练，识别准确率：0.9123\n",
      "第15次电脑训练，识别准确率：0.9133\n",
      "第16次电脑训练，识别准确率：0.9139\n",
      "第17次电脑训练，识别准确率：0.9149\n",
      "第18次电脑训练，识别准确率：0.9158\n",
      "第19次电脑训练，识别准确率：0.9167\n",
      "您的手写字符是： [0]\n"
     ]
    }
   ],
   "source": [
    "#载入数据集\n",
    "mnist = input_data.read_data_sets(\"MNIST_data\",one_hot=True)\n",
    "\n",
    "#每个批次的大小\n",
    "batch_size = 200\n",
    "#计算一共有多少个批次\n",
    "n_batch = mnist.train.num_examples // batch_size\n",
    "\n",
    "#定义两个placeholder\n",
    "x = tf.placeholder(tf.float32,[None,784])\n",
    "y = tf.placeholder(tf.float32,[None,10])\n",
    "\n",
    "#创建一个简单的神经网络\n",
    "W = tf.Variable(tf.zeros([784,10]))\n",
    "b = tf.Variable(tf.zeros([1,10]))\n",
    "prediction = tf.nn.softmax(tf.matmul(x,W)+b)\n",
    "\n",
    "\n",
    "array = tf.matmul(y,tf.transpose(prediction))\n",
    "myLoss = 1 - tf.trace(array) / batch_size\n",
    "#交叉熵损失函数\n",
    "loss = tf.reduce_mean(tf.nn.softmax_cross_entropy_with_logits(labels=y,logits=prediction))\n",
    "#修改后的损失函数\n",
    "#loss = tf.reduce_mean(tf.nn.softmax_cross_entropy_with_logits(labels=y,logits=prediction)) + myLoss\n",
    "\n",
    "#使用梯度下降法\n",
    "train_step = tf.train.GradientDescentOptimizer(0.2).minimize(loss)\n",
    "\n",
    "#初始化变量\n",
    "init = tf.global_variables_initializer()\n",
    "\n",
    "#结果存放在一个布尔型列表中\n",
    "correct_prediction = tf.equal(tf.argmax(y,1),tf.argmax(prediction,1))#argmax返回一维张量中最大的值所在的位置\n",
    "#求准确率\n",
    "accuracy = tf.reduce_mean(tf.cast(correct_prediction,tf.float32))\n",
    "\n",
    "#传入自己的图片\n",
    "img = io.imread('3-2.jpg',as_grey=True)\n",
    "mypicture = 1-img.flatten()\n",
    "mypicture1 = mypicture.reshape(1,784).astype(np.float32)\n",
    "#建立图片占位符号\n",
    "myx = tf.placeholder(tf.float32,[1,784])\n",
    "myprediction = tf.nn.softmax(tf.matmul(myx,W)+b)\n",
    "mypredictionhot = tf.argmax(myprediction,1)\n",
    "\n",
    "\n",
    "with tf.Session() as sess:\n",
    "    sess.run(init)\n",
    "    for i in range(20):\n",
    "        for batch in range(n_batch):\n",
    "            batch_xs,batch_ys = mnist.train.next_batch(batch_size)\n",
    "            sess.run(train_step,feed_dict={x:batch_xs,y:batch_ys})\n",
    "        \n",
    "        acc = sess.run(accuracy,feed_dict={x:mnist.test.images,y:mnist.test.labels})\n",
    "        print(\"第\"+str(i)+\"次电脑训练，识别准确率：\"+str(acc))\n",
    "        \n",
    "    bbb = sess.run(mypredictionhot,feed_dict={myx:mypicture1})\n",
    "    print(\"您的手写字符是：\",bbb)"
   ]
  },
  {
   "cell_type": "code",
   "execution_count": null,
   "metadata": {},
   "outputs": [],
   "source": []
  }
 ],
 "metadata": {
  "kernelspec": {
   "display_name": "Python 3",
   "language": "python",
   "name": "python3"
  },
  "language_info": {
   "codemirror_mode": {
    "name": "ipython",
    "version": 3
   },
   "file_extension": ".py",
   "mimetype": "text/x-python",
   "name": "python",
   "nbconvert_exporter": "python",
   "pygments_lexer": "ipython3",
   "version": "3.6.2"
  }
 },
 "nbformat": 4,
 "nbformat_minor": 2
}
