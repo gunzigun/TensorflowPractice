{
 "cells": [
  {
   "cell_type": "code",
   "execution_count": 1,
   "metadata": {},
   "outputs": [],
   "source": [
    "import tensorflow as tf"
   ]
  },
  {
   "cell_type": "code",
   "execution_count": 9,
   "metadata": {},
   "outputs": [
    {
     "name": "stdout",
     "output_type": "stream",
     "text": [
      "[[0.9 0.  0. ]\n",
      " [0.  0.  0. ]\n",
      " [0.1 0.  0.5]\n",
      " [0.  0.8 0. ]]\n",
      "[[0.9 0.  0. ]\n",
      " [0.  0.8 0. ]\n",
      " [0.1 0.  0.5]]\n",
      "Tensor(\"truediv:0\", shape=(), dtype=float32)\n",
      "0.26666665\n"
     ]
    }
   ],
   "source": [
    "\n",
    "batch_size = 3\n",
    "x = tf.Variable([[1.0,0,0,0],[0,0,0,1.0],[0,0,1.0,0]])\n",
    "y = tf.Variable([[0.9,0,0.1,0],[0,0,0,0.8],[0,0,0.5,0]])\n",
    "yt = tf.transpose(y)\n",
    "array = tf.matmul(x,yt)\n",
    "a = tf.trace(array) / batch_size\n",
    "myLoss = 1 - a         \n",
    "\n",
    "\n",
    "\n",
    "init = tf.global_variables_initializer()\n",
    "\n",
    "with tf.Session() as sess:\n",
    "    sess.run(init)\n",
    "    \n",
    "    print (sess.run(yt))\n",
    "    print (sess.run(array))\n",
    "    print (a)\n",
    "    print (sess.run(myLoss))"
   ]
  },
  {
   "cell_type": "code",
   "execution_count": 4,
   "metadata": {},
   "outputs": [
    {
     "name": "stdout",
     "output_type": "stream",
     "text": [
      "0\n",
      "1\n",
      "2\n",
      "3\n",
      "4\n",
      "5\n"
     ]
    }
   ],
   "source": [
    "#创建一个变量初始化为0\n",
    "state = tf.Variable(0,name='counter')\n",
    "#创建一个op，作用是使state加1\n",
    "new_value = tf.add(state,1)\n",
    "#赋值op\n",
    "update = tf.assign(state,new_value)\n",
    "\n",
    "init = tf.global_variables_initializer()\n",
    "\n",
    "with tf.Session() as sess:\n",
    "    sess.run(init)\n",
    "    print (sess.run(state))\n",
    "    for _ in range(5):\n",
    "        sess.run(update)\n",
    "        print (sess.run(state))\n",
    "        "
   ]
  },
  {
   "cell_type": "code",
   "execution_count": null,
   "metadata": {},
   "outputs": [],
   "source": []
  }
 ],
 "metadata": {
  "kernelspec": {
   "display_name": "Python 3",
   "language": "python",
   "name": "python3"
  },
  "language_info": {
   "codemirror_mode": {
    "name": "ipython",
    "version": 3
   },
   "file_extension": ".py",
   "mimetype": "text/x-python",
   "name": "python",
   "nbconvert_exporter": "python",
   "pygments_lexer": "ipython3",
   "version": "3.6.2"
  }
 },
 "nbformat": 4,
 "nbformat_minor": 2
}
