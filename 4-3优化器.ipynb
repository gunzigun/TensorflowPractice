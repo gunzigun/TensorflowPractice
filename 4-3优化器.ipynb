{
 "cells": [
  {
   "cell_type": "code",
   "execution_count": 1,
   "metadata": {},
   "outputs": [],
   "source": [
    "import numpy as np\n",
    "import tensorflow as tf\n",
    "from skimage import io\n",
    "from tensorflow.examples.tutorials.mnist import input_data"
   ]
  },
  {
   "cell_type": "code",
   "execution_count": 3,
   "metadata": {},
   "outputs": [
    {
     "name": "stdout",
     "output_type": "stream",
     "text": [
      "Extracting MNIST_data\\train-images-idx3-ubyte.gz\n",
      "Extracting MNIST_data\\train-labels-idx1-ubyte.gz\n",
      "Extracting MNIST_data\\t10k-images-idx3-ubyte.gz\n",
      "Extracting MNIST_data\\t10k-labels-idx1-ubyte.gz\n",
      "第0次电脑训练，识别准确率：0.9234\n",
      "第1次电脑训练，识别准确率：0.9249\n",
      "第2次电脑训练，识别准确率：0.9261\n",
      "第3次电脑训练，识别准确率：0.9277\n",
      "第4次电脑训练，识别准确率：0.9307\n",
      "第5次电脑训练，识别准确率：0.931\n",
      "第6次电脑训练，识别准确率：0.9332\n",
      "第7次电脑训练，识别准确率：0.9305\n",
      "第8次电脑训练，识别准确率：0.9311\n",
      "第9次电脑训练，识别准确率：0.9302\n",
      "第10次电脑训练，识别准确率：0.9295\n",
      "第11次电脑训练，识别准确率：0.9317\n",
      "第12次电脑训练，识别准确率：0.9294\n",
      "第13次电脑训练，识别准确率：0.9319\n",
      "第14次电脑训练，识别准确率：0.9328\n",
      "第15次电脑训练，识别准确率：0.931\n",
      "第16次电脑训练，识别准确率：0.9325\n",
      "第17次电脑训练，识别准确率：0.9324\n",
      "第18次电脑训练，识别准确率：0.9302\n",
      "第19次电脑训练，识别准确率：0.9294\n",
      "第20次电脑训练，识别准确率：0.9282\n",
      "您的手写字符是： [3]\n"
     ]
    }
   ],
   "source": [
    "#载入数据集\n",
    "mnist = input_data.read_data_sets(\"MNIST_data\",one_hot=True)\n",
    "\n",
    "#每个批次的大小\n",
    "batch_size = 100\n",
    "#计算一共有多少个批次\n",
    "n_batch = mnist.train.num_examples // batch_size\n",
    "\n",
    "#定义两个placeholder\n",
    "x = tf.placeholder(tf.float32,[None,784])\n",
    "y = tf.placeholder(tf.float32,[None,10])\n",
    "\n",
    "#创建一个简单的神经网络\n",
    "W = tf.Variable(tf.zeros([784,10]))\n",
    "b = tf.Variable(tf.zeros([1,10]))\n",
    "prediction = tf.nn.softmax(tf.matmul(x,W)+b)\n",
    "\n",
    "#二次代价函数\n",
    "loss = tf.reduce_mean(tf.nn.softmax_cross_entropy_with_logits(labels=y,logits=prediction))\n",
    "\n",
    "#使用梯度下降法\n",
    "# train_step = tf.train.GradientDescentOptimizer(0.2).minimize(loss)\n",
    "#使用Adam优化器\n",
    "train_step = tf.train.AdamOptimizer(1e-2).minimize(loss)\n",
    "\n",
    "\n",
    "#初始化变量\n",
    "init = tf.global_variables_initializer()\n",
    "\n",
    "#结果存放在一个布尔型列表中\n",
    "correct_prediction = tf.equal(tf.argmax(y,1),tf.argmax(prediction,1))#argmax返回一维张量中最大的值所在的位置\n",
    "#求准确率\n",
    "accuracy = tf.reduce_mean(tf.cast(correct_prediction,tf.float32))\n",
    "\n",
    "#传入自己的图片\n",
    "img = io.imread('3-2.jpg',as_grey=True)\n",
    "mypicture = 1-img.flatten()\n",
    "mypicture1 = mypicture.reshape(1,784).astype(np.float32)\n",
    "#建立图片占位符号\n",
    "myx = tf.placeholder(tf.float32,[1,784])\n",
    "myprediction = tf.nn.softmax(tf.matmul(myx,W)+b)\n",
    "mypredictionhot = tf.argmax(myprediction,1)\n",
    "\n",
    "\n",
    "with tf.Session() as sess:\n",
    "    sess.run(init)\n",
    "    for i in range(21):\n",
    "        for batch in range(n_batch):\n",
    "            batch_xs,batch_ys = mnist.train.next_batch(batch_size)\n",
    "            sess.run(train_step,feed_dict={x:batch_xs,y:batch_ys})\n",
    "        \n",
    "        acc = sess.run(accuracy,feed_dict={x:mnist.test.images,y:mnist.test.labels})\n",
    "        print(\"第\"+str(i)+\"次电脑训练，识别准确率：\"+str(acc))\n",
    "        \n",
    "    bbb = sess.run(mypredictionhot,feed_dict={myx:mypicture1})\n",
    "    print(\"您的手写字符是：\",bbb)"
   ]
  },
  {
   "cell_type": "code",
   "execution_count": null,
   "metadata": {},
   "outputs": [],
   "source": []
  },
  {
   "cell_type": "code",
   "execution_count": null,
   "metadata": {},
   "outputs": [],
   "source": []
  }
 ],
 "metadata": {
  "kernelspec": {
   "display_name": "Python 3",
   "language": "python",
   "name": "python3"
  },
  "language_info": {
   "codemirror_mode": {
    "name": "ipython",
    "version": 3
   },
   "file_extension": ".py",
   "mimetype": "text/x-python",
   "name": "python",
   "nbconvert_exporter": "python",
   "pygments_lexer": "ipython3",
   "version": "3.6.2"
  }
 },
 "nbformat": 4,
 "nbformat_minor": 2
}
